{
 "cells": [
  {
   "cell_type": "code",
   "execution_count": 3,
   "id": "96b9777a",
   "metadata": {},
   "outputs": [
    {
     "ename": "AttributeError",
     "evalue": "'str' object has no attribute 'get_series'",
     "output_type": "error",
     "traceback": [
      "\u001b[0;31m---------------------------------------------------------------------------\u001b[0m",
      "\u001b[0;31mAttributeError\u001b[0m                            Traceback (most recent call last)",
      "Cell \u001b[0;32mIn[3], line 20\u001b[0m\n\u001b[1;32m     18\u001b[0m end_date \u001b[38;5;241m=\u001b[39m \u001b[38;5;124m'\u001b[39m\u001b[38;5;124m2023-12-31\u001b[39m\u001b[38;5;124m'\u001b[39m\n\u001b[1;32m     19\u001b[0m \u001b[38;5;66;03m# Get FRED data for inflation and unemployment rate\u001b[39;00m\n\u001b[0;32m---> 20\u001b[0m inflation_data \u001b[38;5;241m=\u001b[39m \u001b[43mget_fred_data\u001b[49m\u001b[43m(\u001b[49m\u001b[43minflation_series_id\u001b[49m\u001b[43m,\u001b[49m\u001b[43m \u001b[49m\u001b[43mstart_date\u001b[49m\u001b[43m,\u001b[49m\u001b[43m \u001b[49m\u001b[43mend_date\u001b[49m\u001b[43m)\u001b[49m\n\u001b[1;32m     21\u001b[0m unemployment_data \u001b[38;5;241m=\u001b[39m get_fred_data(unemployment_series_id, start_date, end_date)\n\u001b[1;32m     22\u001b[0m \u001b[38;5;66;03m# Merge dataframes on the date index\u001b[39;00m\n",
      "Cell \u001b[0;32mIn[3], line 10\u001b[0m, in \u001b[0;36mget_fred_data\u001b[0;34m(series_id, start_date, end_date)\u001b[0m\n\u001b[1;32m      9\u001b[0m \u001b[38;5;28;01mdef\u001b[39;00m \u001b[38;5;21mget_fred_data\u001b[39m(series_id, start_date, end_date):\n\u001b[0;32m---> 10\u001b[0m     data \u001b[38;5;241m=\u001b[39m \u001b[43mfred\u001b[49m\u001b[38;5;241;43m.\u001b[39;49m\u001b[43mget_series\u001b[49m(series_id, start_date, end_date)\n\u001b[1;32m     11\u001b[0m     df \u001b[38;5;241m=\u001b[39m pd\u001b[38;5;241m.\u001b[39mDataFrame(data, columns\u001b[38;5;241m=\u001b[39m[series_id])\n\u001b[1;32m     12\u001b[0m     \u001b[38;5;28;01mreturn\u001b[39;00m df\n",
      "\u001b[0;31mAttributeError\u001b[0m: 'str' object has no attribute 'get_series'"
     ]
    }
   ],
   "source": [
    "import pandas as pd\n",
    "import matplotlib.pyplot as plt\n",
    "from api_key import Fred\n",
    "import\n",
    "\n",
    "# Replace 'YOUR_API_KEY' with your FRED API key\n",
    "fred_api_key = 'a14fbd215ebfc909413d1f5fae1fba33'\n",
    "fred = fred_api_key\n",
    "# Function to get FRED series data\n",
    "def get_fred_data(series_id, start_date, end_date):\n",
    "    data = fred.get_series(series_id, start_date, end_date)\n",
    "    df = pd.DataFrame(data, columns=[series_id])\n",
    "    return df\n",
    "# Define series IDs for inflation and unemployment rate\n",
    "inflation_series_id = 'CPIAUCNS'  # Consumer Price Index for All Urban Consumers: All Items\n",
    "unemployment_series_id = 'UNRATE'  # Civilian Unemployment Rate\n",
    "# Define time period (adjust as needed)\n",
    "start_date = '2000-01-01'\n",
    "end_date = '2023-12-31'\n",
    "# Get FRED data for inflation and unemployment rate\n",
    "inflation_data = get_fred_data(inflation_series_id, start_date, end_date)\n",
    "unemployment_data = get_fred_data(unemployment_series_id, start_date, end_date)\n",
    "# Merge dataframes on the date index\n",
    "merged_data = pd.merge(inflation_data, unemployment_data, left_index=True, right_index=True)\n",
    "# Plot the data using matplotlib\n",
    "plt.figure(figsize=(12, 6))\n",
    "plt.plot(merged_data[inflation_series_id], label='Inflation Rate')\n",
    "plt.plot(merged_data[unemployment_series_id], label='Unemployment Rate')\n",
    "plt.title('Inflation vs Unemployment Rate')\n",
    "plt.xlabel('Date')\n",
    "plt.ylabel('Percentage')\n",
    "plt.legend()\n",
    "plt.show()\n",
    "\n",
    "\n",
    "\n",
    "\n",
    "\n",
    "\n",
    "\n",
    "\n",
    "\n",
    "\n",
    "\n",
    "\n",
    "\n",
    "\n",
    "\n",
    "\n",
    "\n",
    "\n"
   ]
  },
  {
   "cell_type": "code",
   "execution_count": null,
   "id": "26d31a01",
   "metadata": {},
   "outputs": [],
   "source": []
  }
 ],
 "metadata": {
  "kernelspec": {
   "display_name": "Python 3 (ipykernel)",
   "language": "python",
   "name": "python3"
  },
  "language_info": {
   "codemirror_mode": {
    "name": "ipython",
    "version": 3
   },
   "file_extension": ".py",
   "mimetype": "text/x-python",
   "name": "python",
   "nbconvert_exporter": "python",
   "pygments_lexer": "ipython3",
   "version": "3.10.13"
  }
 },
 "nbformat": 4,
 "nbformat_minor": 5
}
