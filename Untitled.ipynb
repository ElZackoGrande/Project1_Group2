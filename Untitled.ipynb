{
 "cells": [
  {
   "cell_type": "code",
   "execution_count": 27,
   "id": "e9b26ca0",
   "metadata": {},
   "outputs": [
    {
     "name": "stdout",
     "output_type": "stream",
     "text": [
      "{'realtime_end': '2024-01-29',\n",
      " 'realtime_start': '2024-01-29',\n",
      " 'seriess': [{'frequency': 'Annual',\n",
      "              'frequency_short': 'A',\n",
      "              'id': 'FPCPITOTLZGUSA',\n",
      "              'last_updated': '2023-12-19 13:44:02-06',\n",
      "              'notes': 'Inflation as measured by the consumer price index '\n",
      "                       'reflects the annual percentage change in the cost to '\n",
      "                       'the average consumer of acquiring a basket of goods '\n",
      "                       'and services that may be fixed or changed at specified '\n",
      "                       'intervals, such as yearly. The Laspeyres formula is '\n",
      "                       'generally used.\\n'\n",
      "                       '\\n'\n",
      "                       'International Monetary Fund, International Financial '\n",
      "                       'Statistics and data files.',\n",
      "              'observation_end': '2022-01-01',\n",
      "              'observation_start': '1960-01-01',\n",
      "              'popularity': 85,\n",
      "              'realtime_end': '2024-01-29',\n",
      "              'realtime_start': '2024-01-29',\n",
      "              'seasonal_adjustment': 'Not Seasonally Adjusted',\n",
      "              'seasonal_adjustment_short': 'NSA',\n",
      "              'title': 'Inflation, consumer prices for the United States',\n",
      "              'units': 'Percent',\n",
      "              'units_short': '%'}]}\n"
     ]
    }
   ],
   "source": [
    "import pandas as pd\n",
    "from api_key import api_key\n",
    "import matplotlib.pyplot as plt\n",
    "import requests\n",
    "from pprint import pprint\n",
    "\n",
    "\n",
    "url = \n"
   ]
  },
  {
   "cell_type": "code",
   "execution_count": null,
   "id": "c43c1c77",
   "metadata": {},
   "outputs": [],
   "source": []
  },
  {
   "cell_type": "code",
   "execution_count": null,
   "id": "ca038c07",
   "metadata": {},
   "outputs": [],
   "source": []
  },
  {
   "cell_type": "code",
   "execution_count": null,
   "id": "763dd40d",
   "metadata": {},
   "outputs": [],
   "source": []
  }
 ],
 "metadata": {
  "kernelspec": {
   "display_name": "Python 3 (ipykernel)",
   "language": "python",
   "name": "python3"
  },
  "language_info": {
   "codemirror_mode": {
    "name": "ipython",
    "version": 3
   },
   "file_extension": ".py",
   "mimetype": "text/x-python",
   "name": "python",
   "nbconvert_exporter": "python",
   "pygments_lexer": "ipython3",
   "version": "3.10.13"
  }
 },
 "nbformat": 4,
 "nbformat_minor": 5
}
